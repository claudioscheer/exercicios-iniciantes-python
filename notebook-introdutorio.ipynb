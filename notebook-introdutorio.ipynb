{
 "cells": [
  {
   "cell_type": "markdown",
   "metadata": {},
   "source": [
    "## Fundamentos de Python 3"
   ]
  },
  {
   "cell_type": "markdown",
   "metadata": {},
   "source": [
    "Abaixo estão alguns recursos que podem ser úteis ao aprender Python.\n",
    "\n",
    "- [Guia de estilo](https://google.github.io/styleguide/pyguide.html)\n",
    "- [Operadores](https://www.programiz.com/python-programming/operators)\n",
    "- [Aprenda Programação Python - Tutorial](https://pythonbasics.org/)\n",
    "- [Tutorial de Python e Numpy (com Jupyter e Colab)](https://cs231n.github.io/python-numpy-tutorial/)"
   ]
  },
  {
   "cell_type": "markdown",
   "metadata": {},
   "source": [
    "#### Olá, Mundo!"
   ]
  },
  {
   "cell_type": "code",
   "execution_count": 1,
   "metadata": {
    "ExecuteTime": {
     "end_time": "2020-07-04T04:36:44.314349Z",
     "start_time": "2020-07-04T04:36:44.306621Z"
    }
   },
   "outputs": [
    {
     "name": "stdout",
     "output_type": "stream",
     "text": [
      "Olá, Mundo!\n"
     ]
    }
   ],
   "source": [
    "print(\"Olá, Mundo!\")"
   ]
  },
  {
   "cell_type": "markdown",
   "metadata": {},
   "source": [
    "#### Variáveis e tipos de dados: inteiro, float, booleano, string"
   ]
  },
  {
   "cell_type": "code",
   "execution_count": 2,
   "metadata": {
    "ExecuteTime": {
     "end_time": "2020-07-04T04:36:45.651492Z",
     "start_time": "2020-07-04T04:36:45.631988Z"
    }
   },
   "outputs": [
    {
     "data": {
      "text/plain": [
       "bool"
      ]
     },
     "execution_count": 2,
     "metadata": {},
     "output_type": "execute_result"
    }
   ],
   "source": [
    "b = False # or 0\n",
    "type(b)"
   ]
  },
  {
   "cell_type": "code",
   "execution_count": 3,
   "metadata": {
    "ExecuteTime": {
     "end_time": "2020-07-04T04:36:46.168795Z",
     "start_time": "2020-07-04T04:36:46.161875Z"
    }
   },
   "outputs": [
    {
     "data": {
      "text/plain": [
       "int"
      ]
     },
     "execution_count": 3,
     "metadata": {},
     "output_type": "execute_result"
    }
   ],
   "source": [
    "i = 1\n",
    "type(i)"
   ]
  },
  {
   "cell_type": "code",
   "execution_count": 4,
   "metadata": {
    "ExecuteTime": {
     "end_time": "2020-07-04T04:36:46.384403Z",
     "start_time": "2020-07-04T04:36:46.377608Z"
    }
   },
   "outputs": [
    {
     "data": {
      "text/plain": [
       "float"
      ]
     },
     "execution_count": 4,
     "metadata": {},
     "output_type": "execute_result"
    }
   ],
   "source": [
    "f = 1.1\n",
    "type(f)"
   ]
  },
  {
   "cell_type": "code",
   "execution_count": 5,
   "metadata": {
    "ExecuteTime": {
     "end_time": "2020-07-04T04:36:46.884333Z",
     "start_time": "2020-07-04T04:36:46.877432Z"
    }
   },
   "outputs": [
    {
     "data": {
      "text/plain": [
       "str"
      ]
     },
     "execution_count": 5,
     "metadata": {},
     "output_type": "execute_result"
    }
   ],
   "source": [
    "s = \"Meu nome é Claudio.\"\n",
    "type(s)"
   ]
  },
  {
   "cell_type": "markdown",
   "metadata": {},
   "source": [
    "#### String: substituir, juntar, substring, encontrar, dividir, multilinha"
   ]
  },
  {
   "cell_type": "code",
   "execution_count": 6,
   "metadata": {
    "ExecuteTime": {
     "end_time": "2020-07-04T04:36:47.457550Z",
     "start_time": "2020-07-04T04:36:47.448078Z"
    }
   },
   "outputs": [
    {
     "data": {
      "text/plain": [
       "'Este é um texto muito grande.'"
      ]
     },
     "execution_count": 6,
     "metadata": {},
     "output_type": "execute_result"
    }
   ],
   "source": [
    "s = \"Este é um texto muito grande.\"\n",
    "s"
   ]
  },
  {
   "cell_type": "code",
   "execution_count": 7,
   "metadata": {
    "ExecuteTime": {
     "end_time": "2020-07-04T04:36:47.695273Z",
     "start_time": "2020-07-04T04:36:47.688388Z"
    }
   },
   "outputs": [
    {
     "data": {
      "text/plain": [
       "'Este é um texto muito pequeno.'"
      ]
     },
     "execution_count": 7,
     "metadata": {},
     "output_type": "execute_result"
    }
   ],
   "source": [
    "s_replace = s.replace(\"grande\", \"pequeno\")\n",
    "s_replace"
   ]
  },
  {
   "cell_type": "code",
   "execution_count": 8,
   "metadata": {
    "ExecuteTime": {
     "end_time": "2020-07-04T04:36:47.883527Z",
     "start_time": "2020-07-04T04:36:47.877416Z"
    }
   },
   "outputs": [
    {
     "data": {
      "text/plain": [
       "'foo, bar'"
      ]
     },
     "execution_count": 8,
     "metadata": {},
     "output_type": "execute_result"
    }
   ],
   "source": [
    "s1 = \"foo\"\n",
    "s2 = \"bar\"\n",
    "s_join = \", \".join([s1, s2])\n",
    "s_join"
   ]
  },
  {
   "cell_type": "code",
   "execution_count": 9,
   "metadata": {
    "ExecuteTime": {
     "end_time": "2020-07-04T04:36:48.031580Z",
     "start_time": "2020-07-04T04:36:48.025388Z"
    }
   },
   "outputs": [
    {
     "data": {
      "text/plain": [
       "'Este é '"
      ]
     },
     "execution_count": 9,
     "metadata": {},
     "output_type": "execute_result"
    }
   ],
   "source": [
    "s_substring = s[:7]\n",
    "s_substring"
   ]
  },
  {
   "cell_type": "code",
   "execution_count": 10,
   "metadata": {
    "ExecuteTime": {
     "end_time": "2020-07-04T04:36:48.199780Z",
     "start_time": "2020-07-04T04:36:48.193089Z"
    }
   },
   "outputs": [
    {
     "data": {
      "text/plain": [
       "10"
      ]
     },
     "execution_count": 10,
     "metadata": {},
     "output_type": "execute_result"
    }
   ],
   "source": [
    "s_find = s.find(\"texto\")\n",
    "s_find"
   ]
  },
  {
   "cell_type": "code",
   "execution_count": 11,
   "metadata": {
    "ExecuteTime": {
     "end_time": "2020-07-04T04:36:48.621012Z",
     "start_time": "2020-07-04T04:36:48.612672Z"
    }
   },
   "outputs": [
    {
     "data": {
      "text/plain": [
       "['Este', 'é', 'um', 'texto', 'muito', 'grande.']"
      ]
     },
     "execution_count": 11,
     "metadata": {},
     "output_type": "execute_result"
    }
   ],
   "source": [
    "s_split = s.split()\n",
    "s_split"
   ]
  },
  {
   "cell_type": "code",
   "execution_count": 12,
   "metadata": {
    "ExecuteTime": {
     "end_time": "2020-07-04T04:36:48.805604Z",
     "start_time": "2020-07-04T04:36:48.798557Z"
    }
   },
   "outputs": [
    {
     "name": "stdout",
     "output_type": "stream",
     "text": [
      "\n",
      "escreva\n",
      "o que\n",
      "você\n",
      "quiser\n",
      "\n"
     ]
    }
   ],
   "source": [
    "s_multiline = \"\"\"\n",
    "escreva\n",
    "o que\n",
    "você\n",
    "quiser\n",
    "\"\"\"\n",
    "print(s_multiline)"
   ]
  },
  {
   "cell_type": "markdown",
   "metadata": {},
   "source": [
    "#### Entrada pelo teclado"
   ]
  },
  {
   "cell_type": "code",
   "execution_count": 15,
   "metadata": {
    "ExecuteTime": {
     "end_time": "2020-07-04T04:36:49.296983Z",
     "start_time": "2020-07-04T04:36:49.136315Z"
    }
   },
   "outputs": [
    {
     "name": "stdin",
     "output_type": "stream",
     "text": [
      "Qual é o seu nome?  Claudio\n"
     ]
    },
    {
     "name": "stdout",
     "output_type": "stream",
     "text": [
      "Seu nome é Claudio.\n"
     ]
    }
   ],
   "source": [
    "name = input(\"Qual é o seu nome? \")\n",
    "print(f\"Seu nome é {name}.\")"
   ]
  },
  {
   "cell_type": "markdown",
   "metadata": {},
   "source": [
    "## Estruturas de controle"
   ]
  },
  {
   "cell_type": "markdown",
   "metadata": {},
   "source": [
    "#### if, elif, else"
   ]
  },
  {
   "cell_type": "code",
   "execution_count": 16,
   "metadata": {
    "ExecuteTime": {
     "end_time": "2020-07-04T04:37:07.983220Z",
     "start_time": "2020-07-04T04:37:03.265409Z"
    }
   },
   "outputs": [
    {
     "name": "stdin",
     "output_type": "stream",
     "text": [
      "Idade:  22\n"
     ]
    },
    {
     "name": "stdout",
     "output_type": "stream",
     "text": [
      "adulto\n"
     ]
    }
   ],
   "source": [
    "age = int(input(\"Idade: \"))\n",
    "if age < 18:\n",
    "    print(\"criança\")\n",
    "elif age >= 130:\n",
    "    print(\"fantasma\")\n",
    "elif age >= 100:\n",
    "    print(\"vai morrer em breve\")\n",
    "elif age >= 70:\n",
    "    print(\"idoso\")\n",
    "else:\n",
    "    print(\"adulto\")"
   ]
  },
  {
   "cell_type": "markdown",
   "metadata": {},
   "source": [
    "#### for, while"
   ]
  },
  {
   "cell_type": "code",
   "execution_count": 17,
   "metadata": {
    "ExecuteTime": {
     "end_time": "2020-07-04T04:37:12.915084Z",
     "start_time": "2020-07-04T04:37:12.908529Z"
    }
   },
   "outputs": [
    {
     "name": "stdout",
     "output_type": "stream",
     "text": [
      "0\n",
      "1\n",
      "2\n"
     ]
    }
   ],
   "source": [
    "data = [0, 1, 2]\n",
    "for x in data:\n",
    "    print(x)"
   ]
  },
  {
   "cell_type": "code",
   "execution_count": 18,
   "metadata": {
    "ExecuteTime": {
     "end_time": "2020-07-04T04:37:13.446793Z",
     "start_time": "2020-07-04T04:37:13.439603Z"
    }
   },
   "outputs": [
    {
     "name": "stdout",
     "output_type": "stream",
     "text": [
      "0\n",
      "1\n",
      "2\n"
     ]
    }
   ],
   "source": [
    "i = 0\n",
    "for x in range(i, 3):\n",
    "    print(x)"
   ]
  },
  {
   "cell_type": "code",
   "execution_count": 19,
   "metadata": {
    "ExecuteTime": {
     "end_time": "2020-07-04T04:37:13.910218Z",
     "start_time": "2020-07-04T04:37:13.905252Z"
    }
   },
   "outputs": [
    {
     "name": "stdout",
     "output_type": "stream",
     "text": [
      "a\n",
      "b\n",
      "c\n"
     ]
    }
   ],
   "source": [
    "data = { \"a\": 1, \"b\": 2, \"c\": 3 }\n",
    "for x in data:\n",
    "    print(x)"
   ]
  },
  {
   "cell_type": "code",
   "execution_count": 20,
   "metadata": {
    "ExecuteTime": {
     "end_time": "2020-07-04T04:37:14.416760Z",
     "start_time": "2020-07-04T04:37:14.408108Z"
    }
   },
   "outputs": [
    {
     "name": "stdout",
     "output_type": "stream",
     "text": [
      "1\n",
      "2\n",
      "3\n"
     ]
    }
   ],
   "source": [
    "i = 1\n",
    "while (i <= 3):\n",
    "    print(i)\n",
    "    i += 1"
   ]
  },
  {
   "cell_type": "markdown",
   "metadata": {},
   "source": [
    "## Dados e operações"
   ]
  },
  {
   "cell_type": "markdown",
   "metadata": {},
   "source": [
    "#### Função"
   ]
  },
  {
   "cell_type": "code",
   "execution_count": 21,
   "metadata": {
    "ExecuteTime": {
     "end_time": "2020-07-04T04:37:15.331947Z",
     "start_time": "2020-07-04T04:37:15.319975Z"
    }
   },
   "outputs": [
    {
     "data": {
      "text/plain": [
       "2025"
      ]
     },
     "execution_count": 21,
     "metadata": {},
     "output_type": "execute_result"
    }
   ],
   "source": [
    "import datetime\n",
    "\n",
    "def get_current_year():\n",
    "    date_now = datetime.datetime.now()\n",
    "    return date_now.year\n",
    "\n",
    "year = get_current_year()\n",
    "year"
   ]
  },
  {
   "cell_type": "code",
   "execution_count": 22,
   "metadata": {
    "ExecuteTime": {
     "end_time": "2020-07-04T04:37:15.908815Z",
     "start_time": "2020-07-04T04:37:15.904137Z"
    }
   },
   "outputs": [
    {
     "data": {
      "text/plain": [
       "6"
      ]
     },
     "execution_count": 22,
     "metadata": {},
     "output_type": "execute_result"
    }
   ],
   "source": [
    "def add(x, y):\n",
    "    return x + y;\n",
    "\n",
    "add(4, 2)"
   ]
  },
  {
   "cell_type": "markdown",
   "metadata": {},
   "source": [
    "#### Função com múltiplos retornos"
   ]
  },
  {
   "cell_type": "code",
   "execution_count": 23,
   "metadata": {
    "ExecuteTime": {
     "end_time": "2020-07-04T04:37:33.432101Z",
     "start_time": "2020-07-04T04:37:28.455540Z"
    }
   },
   "outputs": [
    {
     "name": "stdin",
     "output_type": "stream",
     "text": [
      "Nome:  Claudio\n",
      "Idade:  22\n"
     ]
    },
    {
     "data": {
      "text/plain": [
       "('Claudio', '22')"
      ]
     },
     "execution_count": 23,
     "metadata": {},
     "output_type": "execute_result"
    }
   ],
   "source": [
    "def get_user():\n",
    "    name = input(\"Nome: \")\n",
    "    age = input(\"Idade: \")\n",
    "    return name, age\n",
    "\n",
    "name, age = get_user()\n",
    "name, age"
   ]
  },
  {
   "cell_type": "markdown",
   "metadata": {},
   "source": [
    "#### Lista: ordenar, fatiar"
   ]
  },
  {
   "cell_type": "code",
   "execution_count": 24,
   "metadata": {
    "ExecuteTime": {
     "end_time": "2020-07-04T04:37:35.645028Z",
     "start_time": "2020-07-04T04:37:35.642586Z"
    }
   },
   "outputs": [],
   "source": [
    "list = [3, 1, 2]"
   ]
  },
  {
   "cell_type": "code",
   "execution_count": 25,
   "metadata": {
    "ExecuteTime": {
     "end_time": "2020-07-04T04:37:36.086235Z",
     "start_time": "2020-07-04T04:37:36.082474Z"
    }
   },
   "outputs": [],
   "source": [
    "list.sort()"
   ]
  },
  {
   "cell_type": "code",
   "execution_count": 26,
   "metadata": {
    "ExecuteTime": {
     "end_time": "2020-07-04T04:37:36.498572Z",
     "start_time": "2020-07-04T04:37:36.493627Z"
    }
   },
   "outputs": [],
   "source": [
    "new_list = list[:1]"
   ]
  },
  {
   "cell_type": "markdown",
   "metadata": {},
   "source": [
    "#### try, except, finally"
   ]
  },
  {
   "cell_type": "code",
   "execution_count": 27,
   "metadata": {
    "ExecuteTime": {
     "end_time": "2020-07-04T04:37:42.216137Z",
     "start_time": "2020-07-04T04:37:42.206537Z"
    }
   },
   "outputs": [
    {
     "name": "stdout",
     "output_type": "stream",
     "text": [
      "division by zero\n",
      "end\n"
     ]
    }
   ],
   "source": [
    "try:\n",
    "    x = 3 / 0\n",
    "    print(f\"Result: {x}\")\n",
    "except Exception as error:\n",
    "    print(error)\n",
    "finally:\n",
    "    print(\"end\")"
   ]
  },
  {
   "cell_type": "markdown",
   "metadata": {},
   "source": [
    "#### ler e escrever arquivo"
   ]
  },
  {
   "cell_type": "code",
   "execution_count": 28,
   "metadata": {
    "ExecuteTime": {
     "end_time": "2020-07-04T04:37:43.917956Z",
     "start_time": "2020-07-04T04:37:43.910781Z"
    }
   },
   "outputs": [],
   "source": [
    "with open(\"file.txt\", \"w\") as file:\n",
    "    file.write(\"linha 1\\n\")\n",
    "    file.write(\"linha 2\\n\")\n",
    "    file.write(\"linha 3\\n\")"
   ]
  },
  {
   "cell_type": "code",
   "execution_count": 29,
   "metadata": {
    "ExecuteTime": {
     "end_time": "2020-07-04T04:37:48.505313Z",
     "start_time": "2020-07-04T04:37:48.496263Z"
    }
   },
   "outputs": [
    {
     "name": "stdout",
     "output_type": "stream",
     "text": [
      "['linha 1\\n', 'linha 2\\n', 'linha 3\\n']\n"
     ]
    }
   ],
   "source": [
    "with open(\"file.txt\") as file:\n",
    "    content = file.readlines()\n",
    "\n",
    "print(content)"
   ]
  },
  {
   "cell_type": "code",
   "execution_count": null,
   "metadata": {},
   "outputs": [],
   "source": []
  }
 ],
 "metadata": {
  "kernelspec": {
   "display_name": "Python 3 (ipykernel)",
   "language": "python",
   "name": "python3"
  },
  "language_info": {
   "codemirror_mode": {
    "name": "ipython",
    "version": 3
   },
   "file_extension": ".py",
   "mimetype": "text/x-python",
   "name": "python",
   "nbconvert_exporter": "python",
   "pygments_lexer": "ipython3",
   "version": "3.12.5"
  }
 },
 "nbformat": 4,
 "nbformat_minor": 4
}
